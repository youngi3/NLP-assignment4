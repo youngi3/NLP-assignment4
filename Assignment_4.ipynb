{
 "cells": [
  {
   "cell_type": "markdown",
   "metadata": {},
   "source": [
    "# Assignment 4"
   ]
  },
  {
   "cell_type": "markdown",
   "metadata": {},
   "source": [
    "### 1. 复习上课内容以及复现课程代码"
   ]
  },
  {
   "cell_type": "markdown",
   "metadata": {},
   "source": [
    "在本部分，你需要复习上课内容和课程代码后，自己复现课程代码。"
   ]
  },
  {
   "cell_type": "markdown",
   "metadata": {},
   "source": [
    "### 2. 回答一下理论题目"
   ]
  },
  {
   "cell_type": "markdown",
   "metadata": {},
   "source": [
    "#### 1. What does a neuron compute?"
   ]
  },
  {
   "cell_type": "markdown",
   "metadata": {},
   "source": [
    "一个神经元接受输入(权重WT、样本X、偏置b)，根据WT*X+b计算，然后传给一个激活函数(e.g:sigmoid,tanh,Relu,Leaky Relu)得到输出"
   ]
  },
  {
   "cell_type": "markdown",
   "metadata": {},
   "source": [
    "####  2. Why we use non-linear activation funcitons in neural networks?"
   ]
  },
  {
   "cell_type": "markdown",
   "metadata": {},
   "source": [
    "如果使用线性激活函数，神经网络的多层就没有意义，因为每层都是线性激活函数，多层激活函数可以合并成一层激活函数"
   ]
  },
  {
   "cell_type": "markdown",
   "metadata": {},
   "source": [
    "#### 3. What is the 'Logistic Loss' ?"
   ]
  },
  {
   "cell_type": "markdown",
   "metadata": {},
   "source": [
    "单个训练实例的成本的损失函数：\n",
    "$$L = -[y*\\log(\\hat{y})+(1-y)\\log(1-\\hat{y})]$$"
   ]
  },
  {
   "cell_type": "markdown",
   "metadata": {},
   "source": [
    "训练集上的逻辑斯特损失函数：\n",
    "$$L=\\frac{-1}{m}\\sum_{i=1}^{m}[y^i*\\log(\\hat{y}^i)+(1-y^i)\\log(1-\\hat{y}^i)]$$"
   ]
  },
  {
   "cell_type": "markdown",
   "metadata": {},
   "source": [
    "#### 4. Assume that you are building a binary classifier for detecting if an image containing cats, which activation functions would you recommen using for the output layer ?\n",
    "\n",
    "A. ReLU    \n",
    "B. Leaky ReLU    \n",
    "C. sigmoid    \n",
    "D. tanh  "
   ]
  },
  {
   "cell_type": "markdown",
   "metadata": {},
   "source": [
    "C"
   ]
  },
  {
   "cell_type": "markdown",
   "metadata": {},
   "source": [
    "#### 5. Why we don't use zero initialization for all parameters ?"
   ]
  },
  {
   "cell_type": "markdown",
   "metadata": {},
   "source": [
    "因为所有参数舒适化为0，会导致神经网络同一层各结点输出结果一样，导致对称性问题，即每一层内所有结点效果一样，"
   ]
  },
  {
   "cell_type": "markdown",
   "metadata": {},
   "source": [
    "#### 6. Can you implement the softmax function using python ? "
   ]
  },
  {
   "cell_type": "code",
   "execution_count": 401,
   "metadata": {},
   "outputs": [],
   "source": [
    "#softmax function\n",
    "import numpy as np\n",
    "\n",
    "def softmax(logists):\n",
    "    exps = np.exp(logists)\n",
    "    exp_sum = np.sum(exps, axis = 1, keepdims = True) #按行相加，保持矩阵纬度，适用于2维以上\n",
    "    return exps / exp_sum"
   ]
  },
  {
   "cell_type": "markdown",
   "metadata": {},
   "source": [
    "### 3.实践题"
   ]
  },
  {
   "cell_type": "markdown",
   "metadata": {},
   "source": [
    "#### In this practical part, you will build a simple digits recognizer to check if the digit in the image is larger than 5. This assignmnet will guide you step by step to finish your first small project in this course ."
   ]
  },
  {
   "cell_type": "markdown",
   "metadata": {},
   "source": [
    "#### 1 - Packages  \n",
    "sklearn is a famous package for machine learning.   \n",
    "matplotlib is a common package for vasualization."
   ]
  },
  {
   "cell_type": "code",
   "execution_count": 364,
   "metadata": {},
   "outputs": [],
   "source": [
    "from sklearn import datasets\n",
    "import matplotlib.pyplot as plt\n",
    "from sklearn.model_selection import train_test_split"
   ]
  },
  {
   "cell_type": "markdown",
   "metadata": {},
   "source": [
    "#### 2 - Overvie of the dataset  \n",
    "    - a training set has m_train images labeled as 0 if the digit < 5 or 1 if the digit >= 5\n",
    "    - a test set contains m_test images labels as if the digit < 5 or 1 if the digit >= 5\n",
    "    - eah image if of shape (num_px, num_px ). Thus, each image is square(height=num_px and  width = num_px)"
   ]
  },
  {
   "cell_type": "code",
   "execution_count": 365,
   "metadata": {},
   "outputs": [],
   "source": [
    "# Loading the data \n",
    "digits = datasets.load_digits()"
   ]
  },
  {
   "cell_type": "code",
   "execution_count": 366,
   "metadata": {},
   "outputs": [
    {
     "data": {
      "image/png": "[encoded data removed]",
      "text/plain": [
       "<Figure size 432x288 with 10 Axes>"
      ]
     },
     "metadata": {},
     "output_type": "display_data"
    }
   ],
   "source": [
    "# Vilizating the data\n",
    "for i in range(1,11):\n",
    "    plt.subplot(2,5,i)\n",
    "    plt.imshow(digits.data[i-1].reshape([8,8]),cmap=plt.cm.gray_r)\n",
    "    plt.text(3,10,str(digits.target[i-1]))\n",
    "    plt.xticks([])\n",
    "    plt.yticks([])\n",
    "plt.show()"
   ]
  },
  {
   "cell_type": "code",
   "execution_count": 368,
   "metadata": {},
   "outputs": [],
   "source": [
    "# Split the data into training set and test set \n",
    "X_train, X_test, y_train, y_test = train_test_split(digits.data, digits.target, test_size=0.25)"
   ]
  },
  {
   "cell_type": "code",
   "execution_count": 369,
   "metadata": {},
   "outputs": [],
   "source": [
    "from sklearn.preprocessing import MinMaxScaler"
   ]
  },
  {
   "cell_type": "code",
   "execution_count": 400,
   "metadata": {},
   "outputs": [],
   "source": [
    "#对训练集归一化(0,1)范围\n",
    "scaler = MinMaxScaler()\n",
    "scaler.fit(X_train)\n",
    "X_train = scaler.transform(X_train)"
   ]
  },
  {
   "cell_type": "code",
   "execution_count": 371,
   "metadata": {},
   "outputs": [
    {
     "data": {
      "text/plain": [
       "array([[0.    , 0.125 , 0.8125, ..., 0.875 , 0.1875, 0.    ],\n",
       "       [0.    , 0.    , 0.    , ..., 0.125 , 0.    , 0.    ],\n",
       "       [0.    , 0.    , 0.375 , ..., 0.    , 0.    , 0.    ],\n",
       "       ...,\n",
       "       [0.    , 0.    , 0.375 , ..., 0.1875, 0.    , 0.    ],\n",
       "       [0.    , 0.125 , 0.5625, ..., 0.    , 0.    , 0.    ],\n",
       "       [0.    , 0.    , 0.625 , ..., 0.    , 0.    , 0.    ]])"
      ]
     },
     "execution_count": 371,
     "metadata": {},
     "output_type": "execute_result"
    }
   ],
   "source": [
    "X_train"
   ]
  },
  {
   "cell_type": "code",
   "execution_count": 372,
   "metadata": {},
   "outputs": [],
   "source": [
    "# reformulate the label. \n",
    "# If the digit is smaller than 5, the label is 0.\n",
    "# If the digit is larger than 5, the label is 1.\n",
    "y_train[y_train < 5 ] = 0\n",
    "y_train[y_train >= 5] = 1\n",
    "y_test[y_test < 5] = 0\n",
    "y_test[y_test >= 5] = 1"
   ]
  },
  {
   "cell_type": "code",
   "execution_count": 373,
   "metadata": {},
   "outputs": [
    {
     "name": "stdout",
     "output_type": "stream",
     "text": [
      "(1347, 64)\n",
      "(450, 64)\n",
      "(1347,)\n",
      "(450,)\n"
     ]
    }
   ],
   "source": [
    "print(X_train.shape)\n",
    "print(X_test.shape)\n",
    "print(y_train.shape)\n",
    "print(y_test.shape)"
   ]
  },
  {
   "cell_type": "code",
   "execution_count": 374,
   "metadata": {},
   "outputs": [
    {
     "name": "stdout",
     "output_type": "stream",
     "text": [
      "<class 'numpy.ndarray'>\n"
     ]
    }
   ],
   "source": [
    "print(type(y_train))"
   ]
  },
  {
   "cell_type": "markdown",
   "metadata": {},
   "source": [
    "#### 3- Architecture of the neural network"
   ]
  },
  {
   "cell_type": "markdown",
   "metadata": {},
   "source": [
    "![title](./networks.png)"
   ]
  },
  {
   "cell_type": "code",
   "execution_count": 11,
   "metadata": {},
   "outputs": [
    {
     "data": {
      "text/plain": [
       "'C:\\\\Users\\\\aceryoung\\\\Downloads\\\\NLP\\\\02\\\\0202\\\\作业\\\\Assignment_4'"
      ]
     },
     "execution_count": 11,
     "metadata": {},
     "output_type": "execute_result"
    }
   ],
   "source": [
    "pwd"
   ]
  },
  {
   "cell_type": "markdown",
   "metadata": {},
   "source": [
    "##### Mathematical expression of the algorithm:"
   ]
  },
  {
   "cell_type": "markdown",
   "metadata": {},
   "source": [
    "For one example $x^{(i)}$:   \n",
    " $$ z^{(i)} = w^T * x^{(i)} +b $$   \n",
    " $$ y^{(i)} = a^{(i)} = sigmoid(z^{(i)})$$   \n",
    " $$L(a^{(i)},y^{(i)}) = -y^{(i)} log(a^{(i)})-(1-y^{(i)})log(1-a^{(i)})$$"
   ]
  },
  {
   "cell_type": "markdown",
   "metadata": {},
   "source": [
    "The total cost over all training examples:\n",
    "$$ J = \\frac{1}{m}\\sum_{i=1}^{m}L(a^{(i)},y^{(i)}) $$"
   ]
  },
  {
   "cell_type": "markdown",
   "metadata": {},
   "source": [
    "#### 4 - Building the algorithm"
   ]
  },
  {
   "cell_type": "markdown",
   "metadata": {},
   "source": [
    "##### 4.1- Activation function    \n",
    "###### Exercise:\n",
    "Finish the sigmoid funciton "
   ]
  },
  {
   "cell_type": "code",
   "execution_count": 375,
   "metadata": {},
   "outputs": [],
   "source": [
    "def sigmoid(z):\n",
    "    '''\n",
    "    Compute the sigmoid of z\n",
    "    Arguments: z -- a scalar or numpy array of any size.\n",
    "    \n",
    "    Return:\n",
    "    s -- sigmoid(z)\n",
    "    '''\n",
    "    s = 1 / (1+ np.exp(np.dot(-1, z)))\n",
    "    \n",
    "    return s"
   ]
  },
  {
   "cell_type": "code",
   "execution_count": 402,
   "metadata": {},
   "outputs": [
    {
     "name": "stdout",
     "output_type": "stream",
     "text": [
      "sigmoid([0,2]) = [0.5        0.88079708]\n"
     ]
    }
   ],
   "source": [
    "# Test your code \n",
    "# The result should be [0.5 0.88079708]\n",
    "print(\"sigmoid([0,2]) = \" + str(sigmoid([0,2])))"
   ]
  },
  {
   "cell_type": "code",
   "execution_count": 377,
   "metadata": {},
   "outputs": [
    {
     "data": {
      "text/plain": [
       "array([0.5       , 0.88079708, 0.95257413])"
      ]
     },
     "execution_count": 377,
     "metadata": {},
     "output_type": "execute_result"
    }
   ],
   "source": [
    "sigmoid([0,2,3])"
   ]
  },
  {
   "cell_type": "markdown",
   "metadata": {},
   "source": [
    "##### 4.1-Initializaing parameters\n",
    "###### Exercise:\n",
    "Finishe the initialize_parameters function below"
   ]
  },
  {
   "cell_type": "code",
   "execution_count": 378,
   "metadata": {},
   "outputs": [],
   "source": [
    "# Random innitialize the parameters\n",
    "import random\n",
    "def initialize_parameters(dim):\n",
    "    '''\n",
    "    Argument: dim -- size of the w vector\n",
    "    \n",
    "    Returns:\n",
    "    w -- initialized vector of shape (dim,1)\n",
    "    b -- initializaed scalar\n",
    "    '''\n",
    "    \n",
    "    w = np.random.randn(dim,1)\n",
    "    b = random.random()\n",
    "    \n",
    "    assert(w.shape == (dim,1))\n",
    "    assert(isinstance(b,float) or isinstance(b,int))\n",
    "    \n",
    "    return w,b"
   ]
  },
  {
   "cell_type": "markdown",
   "metadata": {},
   "source": [
    "#### 4.3-Forward and backward propagation"
   ]
  },
  {
   "cell_type": "markdown",
   "metadata": {},
   "source": [
    "###### Some mathematical expressions\n",
    "Forward Propagation:   \n",
    ". X    \n",
    ". A = $\\sigma(w^T*X+b) = (a^{(1)},a^{(2)},...,a^{(m)}$   \n",
    ". J = $-\\frac{1}{m} \\sum_{i=1}^{m}y^{(i)}log(a^{(i)})+(1-y^{(i)})log(1-a^{(i)})$       "
   ]
  },
  {
   "cell_type": "markdown",
   "metadata": {},
   "source": [
    "Some derivative: \n",
    "$$\\frac{\\partial{J}}{\\partial{w}} = \\frac{1}{m}X*(A-Y)^T$$     \n",
    "$$\\frac{\\partial{J}}{\\partial{b}} = \\frac{1}{m}\\sum_{i=1}^m(a^{(i)}-y^{(i)}) $$"
   ]
  },
  {
   "cell_type": "markdown",
   "metadata": {},
   "source": [
    "###### Exercise:\n",
    "Finish the function below:"
   ]
  },
  {
   "cell_type": "code",
   "execution_count": 379,
   "metadata": {},
   "outputs": [
    {
     "data": {
      "text/plain": [
       "array([0, 0, 1, ..., 0, 1, 1])"
      ]
     },
     "execution_count": 379,
     "metadata": {},
     "output_type": "execute_result"
    }
   ],
   "source": [
    "y_train"
   ]
  },
  {
   "cell_type": "code",
   "execution_count": 380,
   "metadata": {},
   "outputs": [
    {
     "data": {
      "text/plain": [
       "array([[0.    , 0.125 , 0.8125, ..., 0.875 , 0.1875, 0.    ],\n",
       "       [0.    , 0.    , 0.    , ..., 0.125 , 0.    , 0.    ],\n",
       "       [0.    , 0.    , 0.375 , ..., 0.    , 0.    , 0.    ],\n",
       "       ...,\n",
       "       [0.    , 0.    , 0.375 , ..., 0.1875, 0.    , 0.    ],\n",
       "       [0.    , 0.125 , 0.5625, ..., 0.    , 0.    , 0.    ],\n",
       "       [0.    , 0.    , 0.625 , ..., 0.    , 0.    , 0.    ]])"
      ]
     },
     "execution_count": 380,
     "metadata": {},
     "output_type": "execute_result"
    }
   ],
   "source": [
    "X_train"
   ]
  },
  {
   "cell_type": "code",
   "execution_count": 381,
   "metadata": {},
   "outputs": [],
   "source": [
    "def propagate(w,b,X,Y):\n",
    "    '''\n",
    "    Implement the cost function and its gradient for the propagation\n",
    "    \n",
    "    Arguments:\n",
    "    w - weights\n",
    "    b - bias\n",
    "    X - data\n",
    "    Y - ground truth\n",
    "    '''\n",
    "    m = X.shape[0]\n",
    "    A = sigmoid(np.dot(X,w) + b)                  \n",
    "    cost = -np.mean(np.sum((Y * np.log(A)) + (1-Y)* np.log(1-A)))\n",
    "    #print(A.shape)\n",
    "    \n",
    "    dw = 1 / m * np.dot(X.T, (A-Y.reshape(-1,1)))\n",
    "    db = 1 / m * np.sum(A - Y.reshape(-1,1))\n",
    "    #print(dw.shape)\n",
    "    #print(w.shape)\n",
    "    \n",
    "    assert(dw.shape == w.shape)\n",
    "    assert(db.dtype == float)\n",
    "    cost = np.squeeze(cost)\n",
    "    assert(cost.shape == ())\n",
    "    \n",
    "    grads = {'dw':dw,\n",
    "             'db':db}\n",
    "    return grads, cost"
   ]
  },
  {
   "cell_type": "markdown",
   "metadata": {},
   "source": [
    "##### 4.4 -Optimization"
   ]
  },
  {
   "cell_type": "markdown",
   "metadata": {},
   "source": [
    "###### Exercise:\n",
    "Minimizing the cost function using gradient descent.   \n",
    "$$\\theta = \\theta - \\alpha*d\\theta$$ where $\\alpha$ is the learning rate."
   ]
  },
  {
   "cell_type": "code",
   "execution_count": 382,
   "metadata": {},
   "outputs": [],
   "source": [
    "def optimize(w, b, X, Y, num_iterations, learning_rate, print_cost=False):\n",
    "    '''\n",
    "    This function optimize w and b by running a gradient descen algorithm\n",
    "    \n",
    "    Arguments:\n",
    "    w - weights\n",
    "    b - bias\n",
    "    X - data\n",
    "    Y - ground truth\n",
    "    num_iterations -- number of iterations of the optimization loop\n",
    "    learning_rate -- learning rate of the gradient descent update rule\n",
    "    print_cost -- True to print the loss every 100 steps\n",
    "    \n",
    "    Returns:\n",
    "    params - dictionary containing the weights w and bias b\n",
    "    grads -- dictionary containing the gradients of the weights and bias with respect to the cost function\n",
    "    costs -- list of all the costs computed during the optimization, this will be used to plot the learning curve.\n",
    "    \n",
    "    '''\n",
    "    \n",
    "    costs = []\n",
    "    \n",
    "    for i in range(num_iterations):\n",
    "        \n",
    "        grads, cost = propagate(w,b,X,Y)\n",
    "        \n",
    "        dw = grads['dw']\n",
    "        db = grads['db']\n",
    "        \n",
    "        w = w - learning_rate * dw\n",
    "        b = b - learning_rate * db\n",
    "        \n",
    "        if i % 100 == 0:\n",
    "            costs.append(cost)\n",
    "        if print_cost and i % 100 == 0:\n",
    "            print (\"Cost after iteration %i: %f\" %(i, cost))\n",
    "    \n",
    "    params = {\"w\":w,\n",
    "              \"b\":b}\n",
    "    \n",
    "    grads = {\"dw\":dw,\n",
    "             \"db\":db}\n",
    "    \n",
    "    return params, grads, costs"
   ]
  },
  {
   "cell_type": "markdown",
   "metadata": {},
   "source": [
    "###### Exercise\n",
    "The previous function will output the learned w and b. We are able to use w and b to predict the labels for a dataset X. Implement the predict() function.    \n",
    "Two steps to finish this task:   \n",
    "1. Calculate $\\hat{Y} = A = \\sigma(w^T*X+b)$   \n",
    "2. Convert the entries of a into 0 (if activation <= 0.5) or 1 (if activation > 0.5), stores the predictions in a vector Y_prediction. If you wish, you can use an if/else statement in a for loop (though there is also a way to vectorize this)."
   ]
  },
  {
   "cell_type": "code",
   "execution_count": 383,
   "metadata": {},
   "outputs": [
    {
     "data": {
      "text/plain": [
       "64"
      ]
     },
     "execution_count": 383,
     "metadata": {},
     "output_type": "execute_result"
    }
   ],
   "source": [
    "X_test.shape[1]"
   ]
  },
  {
   "cell_type": "code",
   "execution_count": 384,
   "metadata": {},
   "outputs": [],
   "source": [
    "def predict(w, b, X):\n",
    "    '''\n",
    "    Predict whether the label is 0 or 1 using learned logistic regression parameters (w, b)\n",
    "    \n",
    "    Arguments:\n",
    "    w -- weights\n",
    "    b -- bias \n",
    "    X -- data \n",
    "    \n",
    "    Returns:\n",
    "    Y_prediction -- a numpy array (vector) containing all predictions (0/1) for the examples in X\n",
    "    '''\n",
    "    m = X.shape[0]\n",
    "    Y_prediction = np.zeros((1,m))\n",
    "    w = w.reshape(X.shape[1],1)\n",
    "    \n",
    "    A = sigmoid(np.dot(X,w) + b)\n",
    "    \n",
    "    for i in range(A.shape[1]):\n",
    "        A[A<=0.5] = 0\n",
    "        A[A>0.5] = 1\n",
    "        Y_prediction = A.reshape(1,m)\n",
    "    assert(Y_prediction.shape == (1,m))\n",
    "    \n",
    "    return Y_prediction"
   ]
  },
  {
   "cell_type": "markdown",
   "metadata": {},
   "source": [
    "##### 5- Merge all functions into a model"
   ]
  },
  {
   "cell_type": "markdown",
   "metadata": {},
   "source": [
    "Congratulations !! You have finished all the necessary components for constructing a model. Now, Let's take the challenge to merge all the implemented function into one model."
   ]
  },
  {
   "cell_type": "code",
   "execution_count": 426,
   "metadata": {},
   "outputs": [],
   "source": [
    "def model(X_train, Y_train, X_test, Y_test, num_iterations, learning_rate,print_cost = True):\n",
    "    \"\"\"\n",
    "    Build the logistic regression model by calling all the functions you have implemented.\n",
    "    Arguments:\n",
    "    X_train - training set\n",
    "    Y_train - training label\n",
    "    X_test - test set\n",
    "    Y_test - test label\n",
    "    num_iteration - hyperparameter representing the number of iterations to optimize the parameters\n",
    "    learning_rate -- hyperparameter representing the learning rate used in the update rule of optimize()\n",
    "    print_cost -- Set to true to print the cost every 100 iterations\n",
    "    \n",
    "    Returns:\n",
    "    d - dictionary should contain following information w,b,training_accuracy, test_accuracy,cost\n",
    "    eg: d = {\"w\":w,\n",
    "             \"b\":b,\n",
    "             \"training_accuracy\": training_accuracy,\n",
    "             \"test_accuracy\":test_accuracy,\n",
    "             \"cost\":cost}\n",
    "    \"\"\"\n",
    "    d = {}\n",
    "    dim = X_train.shape[1]\n",
    "    w,b = initialize_parameters(dim) \n",
    "    params, grads, costs = optimize(w, b, X_train, Y_train, num_iterations, learning_rate, print_cost)\n",
    "    Y_prediction = predict(w, b, X_test)\n",
    "    \n",
    "    training_accuracy = np.mean( predict(w, b, X_train)== Y_train.reshape(1,-1))\n",
    "    test_accuracy = np.mean(Y_prediction == Y_test.reshape(1,-1))\n",
    "    \n",
    "    d['w'] = params['w']\n",
    "    d['b'] = params['b']\n",
    "    d['training_accuracy'] = training_accuracy\n",
    "    d['test_accuracy'] = test_accuracy\n",
    "    d['cost'] = costs\n",
    "    return d "
   ]
  },
  {
   "cell_type": "markdown",
   "metadata": {},
   "source": [
    "### 4.选做题"
   ]
  },
  {
   "cell_type": "markdown",
   "metadata": {},
   "source": [
    "Congratulations on building your first logistic regression model. It is your time to analyze it further."
   ]
  },
  {
   "cell_type": "markdown",
   "metadata": {},
   "source": [
    "##### 4.1 Observe the effect of learning rate on the leraning process.   \n",
    "Hits: plot the learning curve with different learning rate"
   ]
  },
  {
   "cell_type": "code",
   "execution_count": 135,
   "metadata": {},
   "outputs": [],
   "source": [
    "import matplotlib.pyplot as plt"
   ]
  },
  {
   "cell_type": "code",
   "execution_count": 276,
   "metadata": {},
   "outputs": [],
   "source": [
    "learning_rates = [i*1e-2 for i in range(1,21)]"
   ]
  },
  {
   "cell_type": "code",
   "execution_count": 277,
   "metadata": {},
   "outputs": [],
   "source": [
    "training_accuracys = []\n",
    "for learning_rate in learning_rates:\n",
    "    result = model(X_train, y_train, X_test, y_test,1000,learning_rate = learning_rate , print_cost = False)\n",
    "    training_accuracys.append(result['training_accuracy'])\n",
    "    "
   ]
  },
  {
   "cell_type": "code",
   "execution_count": 279,
   "metadata": {},
   "outputs": [
    {
     "data": {
      "text/plain": [
       "[<matplotlib.lines.Line2D at 0x22b1dcd8a08>]"
      ]
     },
     "execution_count": 279,
     "metadata": {},
     "output_type": "execute_result"
    },
    {
     "data": {
      "image/png": "[encoded data removed]",
      "text/plain": [
       "<Figure size 432x288 with 1 Axes>"
      ]
     },
     "metadata": {
      "needs_background": "light"
     },
     "output_type": "display_data"
    }
   ],
   "source": [
    "plt.plot(learning_rates,training_accuracys)"
   ]
  },
  {
   "cell_type": "markdown",
   "metadata": {},
   "source": [
    "##### 4.2 Observe the effect of iteration_num on the test accuracy."
   ]
  },
  {
   "cell_type": "code",
   "execution_count": 386,
   "metadata": {},
   "outputs": [],
   "source": [
    "iteration_nums = [i for i in range(100,2000,100)]"
   ]
  },
  {
   "cell_type": "code",
   "execution_count": 387,
   "metadata": {},
   "outputs": [],
   "source": [
    "test_accuracys = []\n",
    "for iteration_num in iteration_nums:\n",
    "    result = model(X_train, y_train, X_test, y_test,iteration_num,learning_rate = 1e-2, print_cost = False)\n",
    "    test_accuracys.append(result['test_accuracy'])"
   ]
  },
  {
   "cell_type": "code",
   "execution_count": 388,
   "metadata": {},
   "outputs": [
    {
     "data": {
      "text/plain": [
       "[<matplotlib.lines.Line2D at 0x22b1f996488>]"
      ]
     },
     "execution_count": 388,
     "metadata": {},
     "output_type": "execute_result"
    },
    {
     "data": {
      "image/png": "[encoded data removed]",
      "text/plain": [
       "<Figure size 432x288 with 1 Axes>"
      ]
     },
     "metadata": {
      "needs_background": "light"
     },
     "output_type": "display_data"
    }
   ],
   "source": [
    "plt.plot(iteration_nums,test_accuracys)"
   ]
  },
  {
   "cell_type": "markdown",
   "metadata": {},
   "source": [
    "# Challenge ! ! !\n",
    "\n",
    "The original data have images labeled 0,1,2,3,4,5,6,7,8,9. In our logistic model, we only detect if the digit in the image is larger or smaller than 5. Now, Let's go for a more challenging problem. Try to use softmax function to build a model to recognize which digit (0,1,2,3,4,5,6,7,8,9) is in the image."
   ]
  },
  {
   "cell_type": "code",
   "execution_count": 408,
   "metadata": {},
   "outputs": [],
   "source": [
    "# Split the data into training set and test set \n",
    "X_train_, X_test_, y_train_, y_test_ = train_test_split(digits.data, digits.target, test_size=0.25)"
   ]
  },
  {
   "cell_type": "code",
   "execution_count": 409,
   "metadata": {},
   "outputs": [
    {
     "data": {
      "text/plain": [
       "(1347, 1)"
      ]
     },
     "execution_count": 409,
     "metadata": {},
     "output_type": "execute_result"
    }
   ],
   "source": [
    "y_train.reshape(-1,1).shape"
   ]
  },
  {
   "cell_type": "markdown",
   "metadata": {},
   "source": [
    "scaler = MinMaxScaler()\n",
    "scaler.fit(X_train_)\n",
    "X_train_ = scaler.transform(X_train_)"
   ]
  },
  {
   "cell_type": "code",
   "execution_count": 458,
   "metadata": {},
   "outputs": [],
   "source": [
    "# Random innitialize the parameters\n",
    "import random\n",
    "def initialize_parameters_(dim):\n",
    "    '''\n",
    "    Argument: dim -- size of the w vector\n",
    "    \n",
    "    Returns:\n",
    "    w -- initialized vector of shape (dim,1)\n",
    "    b -- initializaed scalar\n",
    "    '''\n",
    "    \n",
    "    w = np.random.randn(dim,10)\n",
    "    b = random.random()\n",
    "    \n",
    "    assert(w.shape == (dim,10))\n",
    "    assert(isinstance(b,float) or isinstance(b,int))\n",
    "    \n",
    "    return w,b"
   ]
  },
  {
   "cell_type": "code",
   "execution_count": 459,
   "metadata": {},
   "outputs": [],
   "source": [
    "def one_hot(y):\n",
    "    n_classes = y.max() + 1\n",
    "    m = len(y)\n",
    "    Y_one_hot = np.zeros((m,n_classes))\n",
    "    Y_one_hot[np.arange(m),y] = 1\n",
    "    return Y_one_hot"
   ]
  },
  {
   "cell_type": "code",
   "execution_count": 460,
   "metadata": {},
   "outputs": [
    {
     "data": {
      "text/plain": [
       "array([[0., 0., 0., ..., 0., 0., 0.],\n",
       "       [0., 0., 0., ..., 0., 0., 0.],\n",
       "       [0., 0., 0., ..., 0., 0., 1.],\n",
       "       ...,\n",
       "       [0., 0., 0., ..., 0., 0., 1.],\n",
       "       [0., 0., 0., ..., 0., 0., 0.],\n",
       "       [0., 0., 0., ..., 0., 0., 1.]])"
      ]
     },
     "execution_count": 460,
     "metadata": {},
     "output_type": "execute_result"
    }
   ],
   "source": [
    "one_hot(y_train_)"
   ]
  },
  {
   "cell_type": "markdown",
   "metadata": {},
   "source": [
    "$$\\nabla_{\\mathbf{\\theta}^{(k)}} \\, J(\\mathbf{\\Theta}) = \\dfrac{1}{m} \\sum\\limits_{i=1}^{m}{ \\left ( \\hat{p}^{(i)}_k - y_k^{(i)} \\right ) \\mathbf{x}^{(i)}}$$"
   ]
  },
  {
   "cell_type": "code",
   "execution_count": 461,
   "metadata": {},
   "outputs": [],
   "source": [
    "def propagate_(w,b,X,Y):\n",
    "    '''\n",
    "    Implement the cost function and its gradient for the propagation\n",
    "    \n",
    "    Arguments:\n",
    "    w - weights\n",
    "    b - bias\n",
    "    X - data\n",
    "    Y - ground truth\n",
    "    '''\n",
    "    m = X.shape[0]\n",
    "    A = softmax(np.dot(X,w) + b)\n",
    "    one_hot_Y = one_hot(Y)\n",
    "    cost = np.mean(np.sum(one_hot_Y*(np.log(A)),axis = 1))\n",
    "    error = A - one_hot_Y\n",
    "    #print(A.shape)\n",
    "    \n",
    "    dw = 1 / m * np.dot(X.T,error)\n",
    "    db = 1 / m * error\n",
    "    \n",
    "    assert(dw.shape == w.shape)\n",
    "    assert(db.dtype == float)\n",
    "    cost = np.squeeze(cost)\n",
    "    assert(cost.shape == ())\n",
    "    \n",
    "    grads = {'dw':dw,\n",
    "             'db':db}\n",
    "    return grads, cost"
   ]
  },
  {
   "cell_type": "code",
   "execution_count": 462,
   "metadata": {},
   "outputs": [],
   "source": [
    "def optimize_(w, b, X, Y, num_iterations, learning_rate, print_cost=False):\n",
    "    '''\n",
    "    This function optimize w and b by running a gradient descen algorithm\n",
    "    \n",
    "    Arguments:\n",
    "    w - weights\n",
    "    b - bias\n",
    "    X - data\n",
    "    Y - ground truth\n",
    "    num_iterations -- number of iterations of the optimization loop\n",
    "    learning_rate -- learning rate of the gradient descent update rule\n",
    "    print_cost -- True to print the loss every 100 steps\n",
    "    \n",
    "    Returns:\n",
    "    params - dictionary containing the weights w and bias b\n",
    "    grads -- dictionary containing the gradients of the weights and bias with respect to the cost function\n",
    "    costs -- list of all the costs computed during the optimization, this will be used to plot the learning curve.\n",
    "    \n",
    "    '''\n",
    "    \n",
    "    costs = []\n",
    "    \n",
    "    for i in range(num_iterations):\n",
    "        \n",
    "        grads, cost = propagate_(w,b,X,Y)\n",
    "        \n",
    "        dw = grads['dw']\n",
    "        db = grads['db']\n",
    "        \n",
    "        w = w - learning_rate * dw\n",
    "        b = b - learning_rate * db\n",
    "        \n",
    "        if i % 100 == 0:\n",
    "            costs.append(cost)\n",
    "        if print_cost and i % 100 == 0:\n",
    "            print (\"Cost after iteration %i: %f\" %(i, cost))\n",
    "    \n",
    "    params = {\"w\":w,\n",
    "              \"b\":b}\n",
    "    \n",
    "    grads = {\"dw\":dw,\n",
    "             \"db\":db}\n",
    "    \n",
    "    return params, grads, costs"
   ]
  },
  {
   "cell_type": "code",
   "execution_count": 463,
   "metadata": {},
   "outputs": [],
   "source": [
    "def predict_(w, b, X):\n",
    "    '''\n",
    "    Predict whether the label is 0 or 1 using learned logistic regression parameters (w, b)\n",
    "    \n",
    "    Arguments:\n",
    "    w -- weights\n",
    "    b -- bias \n",
    "    X -- data \n",
    "    \n",
    "    Returns:\n",
    "    Y_prediction -- a numpy array (vector) containing all predictions (0/1) for the examples in X\n",
    "    '''\n",
    "    m = X.shape[0]\n",
    "   \n",
    "    w = w.reshape(X.shape[1],10)  #64*10\n",
    "    \n",
    "    A = softmax(np.dot(X,w) + b)    #1364*10\n",
    "    \n",
    "   \n",
    "    Y_prediction= np.argmax(A, axis = 1)\n",
    "    \n",
    "    return Y_prediction"
   ]
  },
  {
   "cell_type": "code",
   "execution_count": 464,
   "metadata": {},
   "outputs": [],
   "source": [
    "def model_(X_train, Y_train, X_test, Y_test, num_iterations, learning_rate,print_cost = True):\n",
    "    \"\"\"\n",
    "    Build the logistic regression model by calling all the functions you have implemented.\n",
    "    Arguments:\n",
    "    X_train - training set\n",
    "    Y_train - training label\n",
    "    X_test - test set\n",
    "    Y_test - test label\n",
    "    num_iteration - hyperparameter representing the number of iterations to optimize the parameters\n",
    "    learning_rate -- hyperparameter representing the learning rate used in the update rule of optimize()\n",
    "    print_cost -- Set to true to print the cost every 100 iterations\n",
    "    \n",
    "    Returns:\n",
    "    d - dictionary should contain following information w,b,training_accuracy, test_accuracy,cost\n",
    "    eg: d = {\"w\":w,\n",
    "             \"b\":b,\n",
    "             \"training_accuracy\": training_accuracy,\n",
    "             \"test_accuracy\":test_accuracy,\n",
    "             \"cost\":cost}\n",
    "    \"\"\"\n",
    "    d = {}\n",
    "    dim = X_train.shape[1]\n",
    "    w,b = initialize_parameters_(dim) \n",
    "    params, grads, costs = optimize_(w, b, X_train, Y_train, num_iterations, learning_rate, print_cost)\n",
    "    Y_prediction = predict_(w, b, X_test)\n",
    "    \n",
    "    training_accuracy = np.mean( predict_(w, b, X_train)== Y_train.reshape(-1,1))\n",
    "    test_accuracy = np.mean(Y_prediction == Y_test.reshape(-1,1))\n",
    "    print(Y_prediction)\n",
    "    d['w'] = params['w']\n",
    "    d['b'] = params['b']\n",
    "    d['training_accuracy'] = training_accuracy\n",
    "    d['test_accuracy'] = test_accuracy\n",
    "    d['cost'] = costs\n",
    "    return d "
   ]
  },
  {
   "cell_type": "code",
   "execution_count": 466,
   "metadata": {},
   "outputs": [
    {
     "name": "stdout",
     "output_type": "stream",
     "text": [
      "[5 1 4 2 5 2 5 4 4 5 5 4 4 4 5 4 4 5 4 4 5 1 2 1 7 1 7 4 7 5 2 5 4 4 7 4 1\n",
      " 4 4 5 7 1 7 4 4 1 7 5 5 5 3 2 3 5 1 5 1 7 5 5 5 2 3 4 1 4 2 4 4 5 4 1 4 4\n",
      " 2 4 1 1 7 4 4 1 2 1 7 1 3 1 2 7 2 3 4 4 4 4 5 4 7 4 4 1 7 2 1 4 1 4 5 5 4\n",
      " 7 4 7 7 1 4 5 5 7 4 2 1 4 1 4 4 4 7 7 5 3 4 5 7 4 1 4 3 3 1 3 1 4 5 7 4 4\n",
      " 4 3 4 4 7 4 1 5 4 4 2 4 7 7 4 1 2 1 7 2 3 1 5 7 7 1 4 4 7 3 2 5 5 4 4 1 1\n",
      " 5 4 1 4 3 3 4 4 7 4 2 4 1 3 5 4 4 1 4 5 1 7 4 5 1 3 4 7 4 4 4 4 4 4 4 3 4\n",
      " 1 2 1 4 7 7 4 7 1 1 4 2 5 4 3 2 1 4 4 7 2 4 7 4 7 5 7 2 7 4 4 4 7 4 2 1 5\n",
      " 2 2 7 4 5 4 5 5 4 4 2 1 4 4 5 4 4 4 7 5 1 4 7 5 1 2 7 4 4 1 4 1 4 1 1 5 1\n",
      " 7 7 5 2 1 1 2 3 4 1 7 4 1 5 5 4 3 2 5 2 1 7 4 1 4 4 1 4 1 4 4 5 1 7 1 1 1\n",
      " 5 4 4 1 4 4 4 5 7 7 1 7 1 4 4 1 4 1 7 4 1 3 4 1 5 4 7 5 5 1 5 4 5 7 4 3 5\n",
      " 7 7 5 4 7 4 2 4 1 2 4 3 1 5 1 5 7 4 5 7 4 5 3 1 2 7 4 1 7 5 5 5 7 1 1 1 7\n",
      " 7 4 7 2 5 7 2 1 1 1 4 4 4 2 4 7 7 4 7 2 4 1 4 7 7 4 4 7 7 1 5 7 1 7 7 4 3\n",
      " 1 5 2 4 4 7]\n"
     ]
    },
    {
     "data": {
      "text/plain": [
       "{'w': array([[ 5.63997261e-01,  6.16583373e-01,  3.94262628e-01,\n",
       "         -3.39074474e-01, -4.57377700e-01,  1.75789487e+00,\n",
       "         -9.43002130e-01, -1.57939435e-01, -3.63511394e-01,\n",
       "         -2.08320242e-01],\n",
       "        [-1.04348672e+00, -2.09039805e+00,  9.42872159e-02,\n",
       "         -5.90323945e-01,  9.20523698e-01,  1.57244260e+00,\n",
       "         -2.32104174e-01, -1.45009170e-02, -1.38950992e-01,\n",
       "         -7.65340562e-01],\n",
       "        [ 1.00350131e+00, -2.93235432e-01,  1.06109062e+00,\n",
       "          1.39915728e+00,  9.54554690e-01,  6.63622696e-01,\n",
       "         -1.20754990e+00, -5.71610290e-01, -1.74445979e-01,\n",
       "         -5.44244297e-01],\n",
       "        [ 9.72969449e-01,  1.52748452e-03, -5.17837825e-01,\n",
       "          1.11714565e+00, -2.47633441e+00, -3.65690122e-01,\n",
       "         -7.15998850e-01,  1.84042526e+00, -2.42169359e-01,\n",
       "          1.18801390e+00],\n",
       "        [-7.94368321e-01, -1.79987056e+00,  3.44487091e-01,\n",
       "          2.81356357e-01, -1.34789389e+00,  7.26078819e-01,\n",
       "         -5.63034022e-01, -8.40311294e-02, -2.52340711e-01,\n",
       "          6.62878061e-01],\n",
       "        [-1.67968186e+00,  3.56819250e-01, -1.13304676e-01,\n",
       "          4.80699037e-01, -1.26715457e+00,  8.64572833e-01,\n",
       "         -8.58638328e-01,  7.57693701e-01, -1.01948325e+00,\n",
       "         -5.01402360e-01],\n",
       "        [ 5.97544375e-01,  4.69772756e-01,  1.25285857e+00,\n",
       "          2.15334565e-01, -5.09548164e-01,  1.95332338e+00,\n",
       "         -2.54416877e+00,  2.17218835e-01, -1.93180345e-01,\n",
       "          9.94404583e-01],\n",
       "        [-1.13366799e-01, -1.25002278e+00,  1.11805536e-01,\n",
       "         -1.19308477e+00, -3.35399298e-03, -4.08129983e-01,\n",
       "         -5.17103355e-01,  7.95690463e-01,  2.47022546e-01,\n",
       "          3.38998607e-01],\n",
       "        [-7.44600332e-01, -1.54666910e+00,  1.55838062e+00,\n",
       "         -3.76956479e-01,  6.70918506e-03,  2.05477351e-01,\n",
       "          3.81048858e-01, -5.84785448e-02,  7.77276430e-01,\n",
       "         -9.29387861e-01],\n",
       "        [-1.30894679e+00, -4.14596738e-01,  3.01976445e-01,\n",
       "          4.62292647e-01,  3.15755940e-01, -1.13595673e-01,\n",
       "         -1.45828164e+00, -9.36753323e-01,  3.85142776e-01,\n",
       "         -3.32260812e-01],\n",
       "        [-1.89022418e-01, -4.87874444e-01,  2.10035308e-01,\n",
       "          5.53974527e-01,  3.93589129e-01,  1.98382054e+00,\n",
       "          2.19648704e+00,  6.05520852e-01,  3.04833868e-01,\n",
       "          1.21525574e+00],\n",
       "        [ 1.27582827e+00, -3.78091687e-01,  7.28767361e-02,\n",
       "         -7.29990541e-01,  2.03390082e-01, -9.77795625e-01,\n",
       "         -9.74375605e-01,  2.23330545e-01,  1.04860730e+00,\n",
       "          1.14894426e-01],\n",
       "        [-7.74641034e-01, -6.64473255e-02,  1.71053669e-01,\n",
       "         -4.01269465e-02, -1.08527529e+00, -6.74580251e-01,\n",
       "         -1.51082603e+00,  9.58462080e-01, -1.24363669e+00,\n",
       "         -8.52941658e-01],\n",
       "        [ 1.35787214e+00, -5.46231190e-01, -1.56945771e-01,\n",
       "          8.35667127e-01, -2.37621467e-01, -2.04756721e-01,\n",
       "         -1.30343139e+00, -8.31329677e-01,  4.35103849e-01,\n",
       "         -3.44409125e-01],\n",
       "        [ 3.70369354e-01,  5.67181601e-01,  6.56759656e-01,\n",
       "          7.23293864e-01, -1.64354601e-01, -4.34700678e-01,\n",
       "         -8.67414169e-01,  3.48235048e-02,  9.67721310e-01,\n",
       "          3.52906741e-01],\n",
       "        [-3.25748759e-01, -6.87585028e-01, -1.11249460e+00,\n",
       "          9.78578031e-01, -1.15089587e+00,  1.01869118e+00,\n",
       "          5.53676267e-01,  4.34234769e-01, -3.44294534e-01,\n",
       "         -2.12505591e-02],\n",
       "        [ 3.10696020e-01,  1.60894009e+00,  7.64904486e-01,\n",
       "          5.40583738e-01, -1.82232317e+00,  6.43062859e-01,\n",
       "          2.86991544e-02,  9.52437822e-01, -3.84501032e-01,\n",
       "         -6.30276157e-01],\n",
       "        [ 1.10537937e+00,  3.28643378e-01,  9.88489361e-01,\n",
       "         -6.29651678e-01, -2.52749545e-01, -2.81950843e-01,\n",
       "         -8.09147490e-01, -1.80389016e+00,  2.28127221e-02,\n",
       "          6.55778487e-01],\n",
       "        [ 1.42401107e-01, -2.87627573e-01, -9.70469671e-01,\n",
       "         -1.06635614e+00,  2.86217516e-01,  4.22301083e-01,\n",
       "         -1.68100247e-01,  1.37363539e-02,  6.51771007e-01,\n",
       "          4.38556176e-01],\n",
       "        [-6.32290830e-01,  7.81160193e-01, -4.85863553e-01,\n",
       "         -8.37183505e-01, -3.29882735e-02, -1.79777558e-01,\n",
       "         -1.90372878e-02, -1.37350586e+00, -8.19273865e-02,\n",
       "         -4.49268999e-01],\n",
       "        [-5.11915632e-01,  1.51744953e+00,  1.99663857e-01,\n",
       "          5.20774091e-01,  1.02906053e+00, -3.86279284e-01,\n",
       "         -9.90652334e-01,  7.56311938e-01,  4.69122384e-01,\n",
       "          1.30006053e+00],\n",
       "        [ 1.69575238e+00,  1.91514799e-01,  2.05130597e-01,\n",
       "         -3.74511583e-01,  1.07766935e+00, -1.19680936e+00,\n",
       "         -3.17059710e-01,  1.46758378e+00,  1.32468931e+00,\n",
       "          2.27345912e+00],\n",
       "        [-5.12127455e-01, -5.98065806e-01, -1.73060801e+00,\n",
       "          2.95297721e-01,  4.07007833e-01, -2.84472269e-01,\n",
       "          4.60474529e-01,  3.49441780e-01,  2.61158391e-01,\n",
       "          1.92212850e-02],\n",
       "        [-1.03959473e+00,  3.80822979e-01, -1.92163371e+00,\n",
       "          6.58507751e-01, -1.02088127e+00, -1.09628564e+00,\n",
       "         -6.82069829e-01, -3.32178537e-01,  3.90680939e-01,\n",
       "          1.75873176e+00],\n",
       "        [-7.46533665e-01, -4.61197359e-01,  1.86118122e+00,\n",
       "         -6.03749525e-02,  1.49268655e-01,  1.80712052e+00,\n",
       "          2.75730801e-01, -7.04967115e-01, -2.68264863e-01,\n",
       "          1.15690686e+00],\n",
       "        [ 4.24952343e-01,  8.50279879e-01, -5.34938112e-01,\n",
       "          8.01147583e-02,  1.26083167e+00,  9.22728304e-01,\n",
       "         -6.59483773e-02,  3.84500297e-01,  5.32335573e-01,\n",
       "         -5.37829730e-01],\n",
       "        [ 1.89133407e+00, -4.07082539e-01, -2.17743195e+00,\n",
       "         -1.07030226e+00,  3.07958040e-01,  7.67544314e-01,\n",
       "         -3.83359541e-01, -6.25630663e-01, -5.39572141e-01,\n",
       "         -6.33461640e-02],\n",
       "        [-1.26317097e+00,  7.61315288e-02, -1.17226484e+00,\n",
       "         -1.40537869e+00, -3.32786528e-01, -4.05917355e-01,\n",
       "          1.43066767e+00, -1.40385728e+00,  6.84392741e-01,\n",
       "          1.26618792e+00],\n",
       "        [-1.66969645e+00, -3.95325718e-01, -5.88955777e-01,\n",
       "          1.71227526e+00, -3.23436963e-02, -1.88914205e-01,\n",
       "         -1.65409403e+00,  2.68915921e-01, -6.35134772e-01,\n",
       "         -1.13343382e+00],\n",
       "        [-9.79668073e-01,  1.10843534e+00,  3.91834871e-01,\n",
       "         -8.37582072e-01,  2.80045431e-01,  4.72462554e-01,\n",
       "          9.06572589e-01,  1.32739741e+00,  3.35628278e-01,\n",
       "          1.58186171e+00],\n",
       "        [ 7.10555164e-01, -1.10457933e-01, -1.62900117e+00,\n",
       "         -1.29962358e+00,  1.32941108e+00, -7.11656573e-01,\n",
       "         -6.45014888e-01,  1.10691793e+00, -2.21924263e-01,\n",
       "         -4.86634166e-01],\n",
       "        [ 5.51087982e-01,  1.18199201e+00,  5.38268980e-01,\n",
       "          8.34197301e-01,  8.63876798e-01, -6.63146969e-01,\n",
       "         -1.20725292e+00,  5.49717161e-01, -3.90912022e-01,\n",
       "         -3.51263225e-01],\n",
       "        [ 1.06953687e+00,  5.01531477e-01, -1.38324706e+00,\n",
       "         -2.08843498e+00, -7.71248531e-01,  9.52401842e-01,\n",
       "          6.63792206e-01, -4.19870103e-01, -4.03792080e-01,\n",
       "          9.46564576e-01],\n",
       "        [-5.46603205e-01,  5.58115333e-01,  6.25609847e-01,\n",
       "         -7.07655258e-01,  8.49006803e-01,  8.63352967e-01,\n",
       "          7.73058509e-01, -1.20845080e+00, -2.06548827e-01,\n",
       "         -2.95381028e-01],\n",
       "        [-5.95399522e-02,  1.38906628e-01, -4.65831073e-03,\n",
       "         -4.94931173e-01,  9.73288888e-01, -7.32816011e-01,\n",
       "          1.28639270e+00,  4.75890549e-01, -3.44713725e-01,\n",
       "         -1.96329631e-01],\n",
       "        [-5.69607369e-01, -1.11948804e-01, -1.42281835e+00,\n",
       "          1.14808678e+00, -8.30361894e-02,  9.06927817e-01,\n",
       "          9.16711958e-01,  3.48827692e-01,  1.08501315e+00,\n",
       "          1.27581376e+00],\n",
       "        [-1.96765078e+00, -5.05236039e-02,  4.56747999e-01,\n",
       "          3.50301369e-02,  1.54526624e-01,  2.98054747e-02,\n",
       "         -7.37878562e-02, -6.61066626e-01, -1.28574838e-01,\n",
       "         -7.99164282e-01],\n",
       "        [ 1.16901249e+00, -2.88362518e-01, -1.46913210e+00,\n",
       "         -2.57995557e-01, -9.38706203e-02, -2.33310750e-01,\n",
       "         -3.43610819e-01, -2.86421194e-01, -9.39859460e-01,\n",
       "         -2.95545223e-01],\n",
       "        [-9.17242556e-01, -6.48654479e-01, -6.71719174e-01,\n",
       "         -1.20638063e+00, -8.99423956e-01,  8.13720515e-02,\n",
       "         -5.16700206e-01, -1.32938646e+00, -1.72471411e+00,\n",
       "         -8.90591031e-01],\n",
       "        [ 4.23880411e-01, -1.98754686e-01,  1.25623833e+00,\n",
       "         -8.45319519e-01, -4.78674286e-01,  1.13996987e+00,\n",
       "          4.83762570e-01,  3.87044251e-01, -2.62925473e-01,\n",
       "          1.37694927e+00],\n",
       "        [-7.95565532e-03, -1.86331426e+00, -1.03606621e+00,\n",
       "          7.50578804e-01, -7.79297974e-01,  2.75397225e-01,\n",
       "         -1.51823489e-02, -1.31016633e-01, -7.46051787e-02,\n",
       "          1.18947306e+00],\n",
       "        [ 9.27012774e-01, -6.40518500e-01, -8.85051965e-01,\n",
       "         -6.14749417e-01,  6.73300077e-01, -1.05235243e-01,\n",
       "         -4.49075738e-01,  1.50609952e+00,  5.35613489e-01,\n",
       "         -5.46748964e-01],\n",
       "        [ 8.29187759e-01,  5.58576748e-01,  3.32010893e-01,\n",
       "         -1.87995457e-01,  3.61347309e-01,  5.63518127e-01,\n",
       "          1.43336289e+00, -1.44291873e-01,  9.20776984e-01,\n",
       "         -3.40139748e-01],\n",
       "        [ 5.31533714e-01,  7.29998092e-01,  1.56824997e+00,\n",
       "         -1.62327154e+00,  8.39396847e-01, -2.35817638e+00,\n",
       "         -5.26839742e-01,  2.81263205e-01,  7.49557452e-01,\n",
       "         -1.63082445e+00],\n",
       "        [-1.64269989e+00,  7.44821383e-01, -2.59805564e-01,\n",
       "          6.36915396e-01,  1.67251297e+00,  4.93262039e-01,\n",
       "          8.62469402e-01,  1.83021532e+00,  1.15797386e+00,\n",
       "         -5.54373304e-01],\n",
       "        [ 2.77426473e-01, -2.20069436e-01, -7.69917278e-01,\n",
       "         -2.64758671e-01,  8.23690487e-01, -1.11036220e+00,\n",
       "         -1.76672557e-01,  7.18699310e-01,  5.26488841e-02,\n",
       "         -8.79948219e-01],\n",
       "        [ 4.23896396e-01, -1.50688172e+00, -1.41736641e+00,\n",
       "          5.13150412e-01,  2.93774205e-01, -3.77703388e-01,\n",
       "          9.74616336e-01,  9.48743782e-01,  6.02390621e-01,\n",
       "          2.46076581e-01],\n",
       "        [ 9.30311628e-01, -1.36276899e+00, -2.47179532e-01,\n",
       "          3.78573533e-01, -9.97980635e-01, -7.24359375e-01,\n",
       "          1.12728158e-01,  1.44428366e+00,  1.33708610e+00,\n",
       "         -1.66140172e+00],\n",
       "        [-2.60821683e-01,  1.24834797e-02,  2.20327735e-01,\n",
       "          1.13203132e+00,  4.41052941e-01, -4.16692391e-01,\n",
       "          9.00168944e-01, -1.86792731e-01, -3.62762363e-01,\n",
       "          1.39726052e+00],\n",
       "        [ 7.04808515e-01,  1.29313902e+00,  5.46939254e-01,\n",
       "         -4.42298609e-01,  1.65270514e+00, -1.12301682e+00,\n",
       "          1.80636103e+00, -1.24379593e+00,  1.98596640e-01,\n",
       "          1.38077902e+00],\n",
       "        [ 6.10855490e-01, -3.36858920e-01,  9.48478976e-01,\n",
       "         -4.93708461e-01, -5.13508417e-01,  4.56323515e-01,\n",
       "         -1.85655266e-01, -8.30336081e-02,  3.35217979e-01,\n",
       "         -1.08056563e+00],\n",
       "        [-5.09826659e-01,  6.62742861e-01, -1.53780782e-02,\n",
       "         -7.86071586e-01,  9.26834322e-01, -9.65236312e-01,\n",
       "          8.61350009e-01, -5.06742729e-01, -1.51719739e+00,\n",
       "         -6.37344128e-01],\n",
       "        [ 6.04875256e-01,  2.82076974e-01,  1.51835087e-02,\n",
       "         -6.60093290e-01, -1.34206106e+00, -2.77937845e-01,\n",
       "         -3.16049788e-01, -2.06768958e+00, -1.02354990e+00,\n",
       "         -1.17182686e+00],\n",
       "        [-6.91085185e-01, -5.89675098e-02,  4.23457494e-01,\n",
       "          1.06693762e+00, -5.97061159e-01,  5.71020826e-01,\n",
       "         -8.27290530e-01, -2.34521440e+00, -1.49096923e-02,\n",
       "         -1.03373540e+00],\n",
       "        [-8.35980302e-02,  5.40060698e-01,  1.56740377e+00,\n",
       "          1.60856112e+00, -1.22189363e+00,  8.94010632e-01,\n",
       "          6.78584928e-01,  1.42686823e-02,  1.16843501e+00,\n",
       "          1.32714174e-01],\n",
       "        [-1.99445108e+00,  6.08863311e-01,  5.40428131e-01,\n",
       "          1.38736769e+00,  1.22379694e+00, -2.21268284e-01,\n",
       "         -7.97836996e-01, -4.10414634e-01,  2.09815472e-01,\n",
       "          7.63023846e-01],\n",
       "        [-4.87545824e-01,  9.44036614e-01,  9.99032848e-01,\n",
       "         -1.05948480e+00,  4.38864488e-01, -6.24205250e-01,\n",
       "         -1.77273346e+00,  3.21445207e-01,  1.43833824e+00,\n",
       "          1.34581335e+00],\n",
       "        [ 3.71819595e-01,  9.49907699e-01, -1.35316101e-01,\n",
       "          1.62728170e+00, -5.27062431e-01,  1.23869916e+00,\n",
       "         -9.58595126e-01,  9.28510954e-01, -3.41589293e-01,\n",
       "         -7.71686308e-01],\n",
       "        [-1.66593551e+00, -7.94804604e-01, -3.72160011e-01,\n",
       "         -9.81247194e-01, -6.10576075e-01,  1.56562573e+00,\n",
       "         -1.91938938e+00,  5.28399496e-01, -5.73358356e-01,\n",
       "          2.79132228e-01],\n",
       "        [-3.08962699e-01,  3.49237134e-01,  2.00015594e+00,\n",
       "          3.69698578e-01, -4.29466193e-01, -6.20651973e-01,\n",
       "          5.65359795e-01, -7.85393519e-01, -5.49917383e-01,\n",
       "         -1.01034897e+00],\n",
       "        [-3.08148118e-01, -7.93427251e-02, -1.13986310e-01,\n",
       "         -5.04851415e-01,  8.81125358e-01,  1.71992774e-01,\n",
       "         -4.41524428e-01, -3.57796605e-01,  2.03907661e-01,\n",
       "          1.12691684e-01],\n",
       "        [-4.18040570e-01, -2.71886940e-01,  4.49698346e-01,\n",
       "         -7.64553118e-02, -1.81660382e+00, -1.61925235e+00,\n",
       "          1.98536458e+00, -1.85112976e+00, -3.28694601e-01,\n",
       "         -2.12567537e-01],\n",
       "        [ 4.97284192e-01,  8.92269981e-03,  5.16182357e-01,\n",
       "         -1.05208203e+00, -5.34449411e-01, -1.50844962e+00,\n",
       "         -6.28748661e-01, -3.01857230e-01, -1.28078375e+00,\n",
       "         -7.36625595e-01],\n",
       "        [ 7.85962028e-02,  6.02747182e-01, -4.17348073e-03,\n",
       "          1.04428672e+00,  1.13533043e+00, -1.93554901e+00,\n",
       "         -3.01133039e+00, -6.17610720e-01, -5.84696730e-01,\n",
       "         -1.12761236e+00]]),\n",
       " 'b': array([[0.43361942, 0.42229392, 0.43398962, ..., 0.43398962, 0.43394999,\n",
       "         0.43398962],\n",
       "        [0.43398962, 0.43398962, 0.43398962, ..., 0.43345474, 0.43398962,\n",
       "         0.43398962],\n",
       "        [0.43398962, 0.43398962, 0.43382495, ..., 0.43398962, 0.43328962,\n",
       "         0.43486367],\n",
       "        ...,\n",
       "        [0.43368929, 0.43398962, 0.43354879, ..., 0.43387312, 0.41464805,\n",
       "         0.45426784],\n",
       "        [0.43379425, 0.43398924, 0.4339895 , ..., 0.43327482, 0.43398962,\n",
       "         0.43398962],\n",
       "        [0.43398962, 0.43398962, 0.43398962, ..., 0.43398962, 0.43129584,\n",
       "         0.43675765]]),\n",
       " 'training_accuracy': 0.1018518977804894,\n",
       " 'test_accuracy': 0.09689382716049383,\n",
       " 'cost': [-82.58054187785716,\n",
       "  -0.8483485458435627,\n",
       "  -0.371359335273233,\n",
       "  -0.1885771545341853,\n",
       "  -0.10824665435515068,\n",
       "  -0.06374356683816573,\n",
       "  -0.040154852405477816,\n",
       "  -0.026590401777052006,\n",
       "  -0.018218686246708422,\n",
       "  -0.013322149101617801,\n",
       "  -0.00946800543316367,\n",
       "  -0.006491722348740371,\n",
       "  -0.0049203376018274025,\n",
       "  -0.004040543786170785,\n",
       "  -0.0034577123216425806,\n",
       "  -0.00303722369618889,\n",
       "  -0.002717469000009118,\n",
       "  -0.002465143051157414,\n",
       "  -0.002260381119113057,\n",
       "  -0.0020905207440994555,\n",
       "  -0.0019470821108546743,\n",
       "  -0.0018241611641724171,\n",
       "  -0.0017175142084046896,\n",
       "  -0.0016240084607740824,\n",
       "  -0.0015412780763099537,\n",
       "  -0.001467501082035157,\n",
       "  -0.0014012502759016352,\n",
       "  -0.0013413908982906001,\n",
       "  -0.0012870087500660339,\n",
       "  -0.0012373586449485453,\n",
       "  -0.001191826757447295,\n",
       "  -0.001149902663825033,\n",
       "  -0.0011111582711031758,\n",
       "  -0.0010752317235283347,\n",
       "  -0.0010418149608988326,\n",
       "  -0.0010106439934173873,\n",
       "  -0.0009814912228880612,\n",
       "  -0.0009541593232615437,\n",
       "  -0.0009284763220525269,\n",
       "  -0.0009042916156071892,\n",
       "  -0.0008814727171340184,\n",
       "  -0.0008599025845261523,\n",
       "  -0.0008394774105103632,\n",
       "  -0.0008201047841337356,\n",
       "  -0.000801702152533834,\n",
       "  -0.0007841955270830011,\n",
       "  -0.000767518389601349,\n",
       "  -0.0007516107632937029,\n",
       "  -0.0007364184200372235,\n",
       "  -0.0007218922011076784]}"
      ]
     },
     "execution_count": 466,
     "metadata": {},
     "output_type": "execute_result"
    }
   ],
   "source": [
    "model_(X_train_, y_train_, X_test_, y_test_, 5000, 1e-1,print_cost = False)"
   ]
  },
  {
   "cell_type": "markdown",
   "metadata": {},
   "source": [
    "效果不好，欠拟合。原因考虑一层神经网络太简单了，参数也有待优化。"
   ]
  },
  {
   "cell_type": "markdown",
   "metadata": {},
   "source": [
    "# Congratulations ! You have completed assigment 4. "
   ]
  }
 ],
 "metadata": {
  "kernelspec": {
   "display_name": "Python 3",
   "language": "python",
   "name": "python3"
  },
  "language_info": {
   "codemirror_mode": {
    "name": "ipython",
    "version": 3
   },
   "file_extension": ".py",
   "mimetype": "text/x-python",
   "name": "python",
   "nbconvert_exporter": "python",
   "pygments_lexer": "ipython3",
   "version": "3.7.4"
  }
 },
 "nbformat": 4,
 "nbformat_minor": 2
}
